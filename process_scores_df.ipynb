{
 "cells": [
  {
   "cell_type": "code",
   "execution_count": null,
   "metadata": {},
   "outputs": [],
   "source": [
    "import os\n",
    "import pandas as pd\n",
    "import matplotlib.pyplot as plt\n",
    "import seaborn as sns"
   ]
  },
  {
   "cell_type": "code",
   "execution_count": null,
   "metadata": {},
   "outputs": [],
   "source": [
    "# Specify the path to your CSV file\n",
    "csv_file = 'results/scores_test2.csv'\n",
    "df = pd.read_csv(csv_file)\n",
    "df = df.drop([\"run_name\", \"max_iters\"], axis=1)"
   ]
  },
  {
   "cell_type": "code",
   "execution_count": null,
   "metadata": {},
   "outputs": [],
   "source": [
    "df.head()"
   ]
  },
  {
   "cell_type": "code",
   "execution_count": null,
   "metadata": {},
   "outputs": [],
   "source": [
    "# Define the grouping keys\n",
    "group_keys = [\"dataset\", \"model_type\", \"num_layers\", \"readout_type\"]\n",
    "\n",
    "# Define the metrics for which statistics should be computed\n",
    "metrics = [\"acc\", \"acc_foreground\", \"iou\", \"iou_foreground\", \"loss\", \"loss_foreground\"]\n",
    "\n",
    "# Group by the specified keys and compute statistics across the \"extension\" category\n",
    "grouped_df = df.groupby(group_keys).agg({\n",
    "    metric: ['mean', 'std'] for metric in metrics\n",
    "}).reset_index()"
   ]
  },
  {
   "cell_type": "code",
   "execution_count": null,
   "metadata": {},
   "outputs": [],
   "source": [
    "grouped_df"
   ]
  },
  {
   "cell_type": "code",
   "execution_count": null,
   "metadata": {},
   "outputs": [],
   "source": [
    "grouped_df.to_csv(\"results/scores_processed1.csv\", index=True)"
   ]
  },
  {
   "cell_type": "code",
   "execution_count": null,
   "metadata": {},
   "outputs": [],
   "source": [
    "pivoted_df = grouped_df.pivot_table(index=group_keys)#, columns='extension', values=metrics, aggfunc='mean')"
   ]
  },
  {
   "cell_type": "code",
   "execution_count": null,
   "metadata": {},
   "outputs": [],
   "source": [
    "pivoted_df"
   ]
  },
  {
   "cell_type": "code",
   "execution_count": null,
   "metadata": {},
   "outputs": [],
   "source": [
    "pivoted_df = pivoted_df.round(2)"
   ]
  },
  {
   "cell_type": "code",
   "execution_count": null,
   "metadata": {},
   "outputs": [],
   "source": [
    "pivoted_df"
   ]
  },
  {
   "cell_type": "code",
   "execution_count": null,
   "metadata": {},
   "outputs": [],
   "source": [
    "datasets = [\"mnist\", \"new_tetronimoes\"]\n",
    "models = [\"cornn_model2\", \"conv_recurrent2\", \"baseline1_flexible\"]\n",
    "num_layers = [2, 4, 8, 16, 32]\n",
    "readouts = [\"linear\", \"fft\", \"last\", \"mean_time\", \"max_time\"]"
   ]
  },
  {
   "cell_type": "code",
   "execution_count": null,
   "metadata": {},
   "outputs": [],
   "source": [
    "results = {}\n",
    "for dataset in datasets:\n",
    "    if dataset not in results:\n",
    "        results[dataset] = {}\n",
    "    for model in models:\n",
    "        if model not in results[dataset]:\n",
    "            results[dataset][model] = {}\n",
    "        if model == \"baseline1_flexible\":\n",
    "            for layer in num_layers:\n",
    "                df1 = pivoted_df.loc[(dataset, model, layer, \"linear\")]\n",
    "                results[dataset][model][layer] = df1\n",
    "        else:\n",
    "            for readout in readouts:\n",
    "                df1 = pivoted_df.loc[(dataset, model, 16, readout)]\n",
    "                results[dataset][model][readout] = df1"
   ]
  },
  {
   "cell_type": "code",
   "execution_count": null,
   "metadata": {},
   "outputs": [],
   "source": [
    "def do_concats(dataset, models):\n",
    "    df1 = pd.concat(results[dataset][models[2]], axis=1).T\n",
    "    df2 = pd.concat(results[dataset][models[1]], axis=1).T\n",
    "    df3 = pd.concat(results[dataset][models[0]], axis=1).T\n",
    "    return pd.concat((df1, df2, df3), axis=0, keys=(\"CNN\", \"LSTM\", \"CoRNN\"))"
   ]
  },
  {
   "cell_type": "code",
   "execution_count": null,
   "metadata": {},
   "outputs": [],
   "source": [
    "df1 = do_concats(\"mnist\", models)\n",
    "df2 = do_concats(\"new_tetronimoes\", models)"
   ]
  },
  {
   "cell_type": "code",
   "execution_count": null,
   "metadata": {},
   "outputs": [],
   "source": [
    "df1 = pd.concat((df1, df2), axis=0, keys=(\"MNIST\", \"Tetrominoes\"))"
   ]
  },
  {
   "cell_type": "code",
   "execution_count": null,
   "metadata": {},
   "outputs": [],
   "source": [
    "df1"
   ]
  },
  {
   "cell_type": "code",
   "execution_count": null,
   "metadata": {},
   "outputs": [],
   "source": [
    "df1.to_csv(\"results/scores_processed3.csv\", index=True)\n",
    "df1.to_latex(\"results/scores_processed3\", index=True, float_format=\"%.2f\")"
   ]
  },
  {
   "cell_type": "code",
   "execution_count": null,
   "metadata": {},
   "outputs": [],
   "source": []
  }
 ],
 "metadata": {
  "kernelspec": {
   "display_name": "Python 3",
   "language": "python",
   "name": "python3"
  },
  "language_info": {
   "codemirror_mode": {
    "name": "ipython",
    "version": 3
   },
   "file_extension": ".py",
   "mimetype": "text/x-python",
   "name": "python",
   "nbconvert_exporter": "python",
   "pygments_lexer": "ipython3",
   "version": "3.12.3"
  }
 },
 "nbformat": 4,
 "nbformat_minor": 2
}
