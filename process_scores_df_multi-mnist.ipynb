{
 "cells": [
  {
   "cell_type": "code",
   "execution_count": null,
   "metadata": {},
   "outputs": [],
   "source": [
    "import os\n",
    "import pandas as pd\n",
    "import matplotlib.pyplot as plt\n",
    "import seaborn as sns"
   ]
  },
  {
   "cell_type": "code",
   "execution_count": null,
   "metadata": {},
   "outputs": [],
   "source": [
    "# Specify the path to your CSV file\n",
    "csv_file = 'results/scores_test_multi-mnist.csv'\n",
    "df = pd.read_csv(csv_file)\n",
    "df = df.drop([\"run_name\"], axis=1)"
   ]
  },
  {
   "cell_type": "code",
   "execution_count": null,
   "metadata": {},
   "outputs": [],
   "source": [
    "df.head()"
   ]
  },
  {
   "cell_type": "code",
   "execution_count": null,
   "metadata": {},
   "outputs": [],
   "source": [
    "# Define the grouping keys\n",
    "group_keys = [\"dataset\", \"model_type\", \"c_mid\"]\n",
    "\n",
    "# Define the metrics for which statistics should be computed\n",
    "metrics = [\"acc\", \"acc_foreground\", \"iou\", \"iou_foreground\", \"loss\", \"loss_foreground\"]\n",
    "\n",
    "# Group by the specified keys and compute statistics across the \"extension\" category\n",
    "grouped_df = df.groupby(group_keys).agg({\n",
    "    metric: ['mean', 'std'] for metric in metrics\n",
    "}).reset_index()"
   ]
  },
  {
   "cell_type": "code",
   "execution_count": null,
   "metadata": {},
   "outputs": [],
   "source": [
    "grouped_df"
   ]
  },
  {
   "cell_type": "code",
   "execution_count": null,
   "metadata": {},
   "outputs": [],
   "source": [
    "pivoted_df = grouped_df.pivot_table(index=group_keys)#, columns='extension', values=metrics, aggfunc='mean')"
   ]
  },
  {
   "cell_type": "code",
   "execution_count": null,
   "metadata": {},
   "outputs": [],
   "source": [
    "pivoted_df"
   ]
  },
  {
   "cell_type": "code",
   "execution_count": null,
   "metadata": {},
   "outputs": [],
   "source": [
    "pivoted_df = pivoted_df.round(2)"
   ]
  },
  {
   "cell_type": "code",
   "execution_count": null,
   "metadata": {},
   "outputs": [],
   "source": [
    "pivoted_df"
   ]
  },
  {
   "cell_type": "code",
   "execution_count": null,
   "metadata": {},
   "outputs": [],
   "source": [
    "pivoted_df.to_csv(\"results/scores_processed_multi-mnist.csv\", index=True)\n",
    "pivoted_df.to_latex(\"results/scores_processed_multi-mnist\", index=True, float_format=\"%.2f\")"
   ]
  },
  {
   "cell_type": "markdown",
   "metadata": {},
   "source": [
    "# Calculate params"
   ]
  },
  {
   "cell_type": "code",
   "execution_count": null,
   "metadata": {},
   "outputs": [],
   "source": [
    "from unet2 import UNet as UNet\n",
    "from cornn_model2 import Model\n",
    "from utils import make_model"
   ]
  },
  {
   "cell_type": "code",
   "execution_count": null,
   "metadata": {},
   "outputs": [],
   "source": [
    "def calc_params(model):\n",
    "    # Total number of parameters\n",
    "    total_params = sum(p.numel() for p in model.parameters())\n",
    "\n",
    "    # Number of trainable parameters\n",
    "    trainable_params = sum(p.numel() for p in model.parameters() if p.requires_grad)\n",
    "    return trainable_params, total_params"
   ]
  },
  {
   "cell_type": "code",
   "execution_count": null,
   "metadata": {},
   "outputs": [],
   "source": [
    "print(calc_params(UNet(1, 11, c_mid=2)))\n",
    "print(calc_params(UNet(1, 11, c_mid=3)))\n",
    "print(calc_params(UNet(1, 11, c_mid=4)))\n",
    "print(calc_params(UNet(1, 11, c_mid=5)))"
   ]
  },
  {
   "cell_type": "code",
   "execution_count": null,
   "metadata": {},
   "outputs": [],
   "source": [
    "net = make_model(device=\"cuda\", model_type=\"cornn_model2\", num_classes=11,\n",
    "               N=128, dt1=0.1, min_iters=0, max_iters=100, c_in=1, c_mid=16, c_out=16, \n",
    "               rnn_kernel=3, img_size=128, kernel_init='op', cell_type=\"lstm\", num_layers=16,\n",
    "               readout_type=\"linear_smaller4\")\n",
    "print(calc_params(net))"
   ]
  }
 ],
 "metadata": {
  "kernelspec": {
   "display_name": "Python 3",
   "language": "python",
   "name": "python3"
  },
  "language_info": {
   "codemirror_mode": {
    "name": "ipython",
    "version": 3
   },
   "file_extension": ".py",
   "mimetype": "text/x-python",
   "name": "python",
   "nbconvert_exporter": "python",
   "pygments_lexer": "ipython3",
   "version": "3.12.3"
  }
 },
 "nbformat": 4,
 "nbformat_minor": 2
}
