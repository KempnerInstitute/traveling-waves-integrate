{
 "cells": [
  {
   "cell_type": "code",
   "execution_count": null,
   "metadata": {},
   "outputs": [],
   "source": [
    "import yaml\n",
    "from omegaconf import OmegaConf\n",
    "\n",
    "import torch\n",
    "from utils import make_model, set_random_seed, save_model, load_model\n",
    "from trainer import train\n",
    "from dataset import ShapeDataset, load_data\n",
    "from dataset_config import DATASET_CONFIG\n",
    "\n",
    "import torch\n",
    "import torch.nn as nn\n",
    "from torch.utils.data import DataLoader\n",
    "import numpy as np\n",
    "import torchvision\n",
    "import torchvision.transforms as transforms\n",
    "\n",
    "import torch.nn.functional as F\n",
    "\n",
    "from sklearn.cluster import KMeans\n",
    "import fastcluster\n",
    "from scipy.cluster.hierarchy import fcluster\n",
    "\n",
    "import math\n",
    "\n",
    "import matplotlib.pyplot as plt\n",
    "from plotting import plot_phases, plot_results, plot_eval, plot_fourier, plot_phases2, plot_masks, plot_slots, build_color_mask, plot_clusters, plot_clusters2\n",
    "\n",
    "from loss_metrics import get_ar_metrics, compute_pixelwise_accuracy, compute_iou\n",
    "\n",
    "import os\n",
    "import numpy as np\n",
    "import imageio\n",
    "import matplotlib.pyplot as plt\n",
    "import matplotlib.cm as cm\n",
    "from IPython.display import display\n",
    "import ipywidgets as widgets\n",
    "\n",
    "import matplotlib.animation as animation\n",
    "import matplotlib.pyplot as plt\n",
    "from IPython.display import HTML\n",
    "\n",
    "import matplotlib.gridspec as gridspec\n",
    "\n",
    "import seaborn as sns"
   ]
  },
  {
   "cell_type": "code",
   "execution_count": null,
   "metadata": {},
   "outputs": [],
   "source": [
    "sns.set()"
   ]
  },
  {
   "cell_type": "markdown",
   "metadata": {},
   "source": [
    "# Data Paths"
   ]
  },
  {
   "cell_type": "code",
   "execution_count": null,
   "metadata": {},
   "outputs": [],
   "source": [
    "# Function to load a YAML file\n",
    "def load_yaml_file(file_path):\n",
    "    with open(file_path, 'r') as file:\n",
    "        return yaml.safe_load(file)['params']\n",
    "\n",
    "folders = [\n",
    "    \"ccn8/new_tetronimoes/conv_recurrent2/5/linear_lstm_20iters\",\n",
    "    \"ccn8/new_tetronimoes/cornn_model2/9/linear_100iters\",\n",
    "]\n",
    "folder = 'experiments'\n",
    "hydra_config_file = '.hydra/config.yaml'\n",
    "paths = [f\"{folder}/{curr}\" for curr in folders]\n",
    "\n",
    "configs = [load_yaml_file(f\"{p}/{hydra_config_file}\") for p in paths]"
   ]
  },
  {
   "cell_type": "code",
   "execution_count": null,
   "metadata": {},
   "outputs": [],
   "source": [
    "# Setup\n",
    "seed = 1\n",
    "set_random_seed(seed)\n",
    "device = torch.device(\"cuda\" if torch.cuda.is_available() else \"cpu\")"
   ]
  },
  {
   "cell_type": "markdown",
   "metadata": {},
   "source": [
    "# Load models"
   ]
  },
  {
   "cell_type": "code",
   "execution_count": null,
   "metadata": {},
   "outputs": [],
   "source": [
    "def load_model(cp_folder, config, device, data_config):\n",
    "    net = make_model(\n",
    "        device,\n",
    "        config['model_type'],\n",
    "        config['num_classes'],\n",
    "        config['N'],\n",
    "        config['dt'],\n",
    "        config['min_iters'],\n",
    "        config['max_iters'],\n",
    "        data_config['channels'],\n",
    "        config['c_mid'],\n",
    "        config['hidden_channels'],\n",
    "        config['rnn_kernel'],\n",
    "        data_config['img_size'],\n",
    "        config['kernel_init'],\n",
    "        cell_type=config['cell_type'],\n",
    "        num_layers=config['num_layers'],\n",
    "        readout_type=config['readout_type'],\n",
    "    )\n",
    "    net.load_state_dict(torch.load(f\"{cp_folder}/cp.pt\", \n",
    "                                   map_location=torch.device('cpu')), \n",
    "                                   strict=False)\n",
    "    net.eval()\n",
    "    return net.to(device)"
   ]
  },
  {
   "cell_type": "code",
   "execution_count": null,
   "metadata": {},
   "outputs": [],
   "source": [
    "models = [load_model(paths[i], configs[i], device, DATASET_CONFIG['new_tetronimoes']) for i in range(len(paths))]"
   ]
  },
  {
   "cell_type": "markdown",
   "metadata": {},
   "source": [
    "# Forward"
   ]
  },
  {
   "cell_type": "code",
   "execution_count": null,
   "metadata": {},
   "outputs": [],
   "source": [
    "def fft_readout(net, y_seq, B, H, W):\n",
    "    fft_vals = torch.fft.rfft(y_seq, dim=1) # (B, K, c_out, H, W)\n",
    "    fft_mag = torch.abs(fft_vals) # (B, K, c_out, H, W)\n",
    "    return fft_mag\n",
    "\n",
    "def linear_readout(net, y_seq, B, H, W):\n",
    "    y_seq = y_seq.reshape(B, net.T, net.c_out, -1)\n",
    "    y_seq = y_seq.transpose(1, 3)\n",
    "    fft_vals = net.fc_time(y_seq)\n",
    "    fft_mag = fft_vals.transpose(1, 3) # (B, K, C, H*W)\n",
    "    fft_mag = fft_mag.reshape(B, fft_mag.size(1), fft_mag.size(2), H, W)\n",
    "    return fft_mag"
   ]
  },
  {
   "cell_type": "markdown",
   "metadata": {},
   "source": [
    "# Set up data"
   ]
  },
  {
   "cell_type": "code",
   "execution_count": null,
   "metadata": {},
   "outputs": [],
   "source": [
    "# Load data\n",
    "data_config1 = DATASET_CONFIG['new_tetronimoes']\n",
    "_, valset, _ = load_data('new_tetronimoes', data_config1)\n",
    "\n",
    "val_loader = DataLoader(valset, batch_size=16, shuffle=True, drop_last=False)\n",
    "batch1 = next(iter(val_loader))\n",
    "\n",
    "testsets = {\n",
    "    'new_tetronimoes' : batch1,\n",
    "}"
   ]
  },
  {
   "cell_type": "code",
   "execution_count": null,
   "metadata": {},
   "outputs": [],
   "source": [
    "states = []\n",
    "ffts = []\n",
    "masks = []\n",
    "for i, net in enumerate(models):\n",
    "    config = configs[i]\n",
    "    dataset = config['dataset']\n",
    "    batch = testsets[dataset]\n",
    "    x, x_target = batch\n",
    "    batch_size = x.size(0)\n",
    "    x = x.to(device) #torch.Size([16, 2, 3, 40, 40]) \n",
    "    logits, y_seq = net(x)\n",
    "    fft_mag = linear_readout(net.classifier, y_seq, x.size(0), x.size(-2), x.size(-1))\n",
    "    states.append(y_seq)\n",
    "    ffts.append(fft_mag)\n",
    "    masks.append(logits.argmax(dim=1))"
   ]
  },
  {
   "cell_type": "code",
   "execution_count": null,
   "metadata": {},
   "outputs": [],
   "source": [
    "print(states[0].shape, states[1].shape)"
   ]
  },
  {
   "cell_type": "code",
   "execution_count": null,
   "metadata": {},
   "outputs": [],
   "source": [
    "print(ffts[0].shape, ffts[1].shape)"
   ]
  },
  {
   "cell_type": "code",
   "execution_count": null,
   "metadata": {},
   "outputs": [],
   "source": [
    "print(masks[0].shape, masks[1].shape)"
   ]
  },
  {
   "cell_type": "markdown",
   "metadata": {},
   "source": [
    "# Plot masks"
   ]
  },
  {
   "cell_type": "code",
   "execution_count": null,
   "metadata": {},
   "outputs": [],
   "source": [
    "def plot_masks(masks, title):\n",
    "    masks = masks.detach().cpu().numpy()\n",
    "    fig, axes = plt.subplots(1, 16, figsize=(16, 1))\n",
    "    for i in range(16):\n",
    "        axes[i].imshow(masks[i])\n",
    "        axes[i].set_xticks([])\n",
    "        axes[i].set_yticks([])\n",
    "    axes[0].set_title(title)\n",
    "    plt.show()"
   ]
  },
  {
   "cell_type": "code",
   "execution_count": null,
   "metadata": {},
   "outputs": [],
   "source": [
    "for i, net in enumerate(models):\n",
    "    plot_masks(masks[i], title=configs[i]['model_type'])"
   ]
  },
  {
   "cell_type": "markdown",
   "metadata": {},
   "source": [
    "# Look at gifs and choose timesteps we want to plot"
   ]
  },
  {
   "cell_type": "code",
   "execution_count": null,
   "metadata": {},
   "outputs": [],
   "source": [
    "def plot_hidden_state_video(y_seq, sample_idx=0, interval=200):\n",
    "    \"\"\"\n",
    "    Given y_seq of shape (T,B,H,W), animate the hidden state for the sample\n",
    "    `sample_idx` across timesteps T.\n",
    "    \n",
    "    - `interval` controls the animation speed (milliseconds between frames).\n",
    "    - returns: HTML object that, when displayed in Jupyter, shows the animation.\n",
    "    \"\"\"\n",
    "    T, B, H, W = y_seq.shape\n",
    "    assert 0 <= sample_idx < B, f\"sample_idx must be in [0..{B-1}]\"\n",
    "    \n",
    "    # Subsample to 100 frames if sequence is too long\n",
    "    if T > 100:\n",
    "        indices = np.linspace(0, T-1, 100, dtype=int)\n",
    "        y_seq = y_seq[indices]\n",
    "        T = 100\n",
    "    \n",
    "    # We'll animate frames across t=0..T-1\n",
    "    #  shape => (T,H,W)\n",
    "    y_seq_np = y_seq[:, sample_idx].cpu().numpy()  # -> (T,H,W)\n",
    "    \n",
    "    # We can pick vmin/vmax across the entire timeseries for a stable color scale\n",
    "    vmin = y_seq_np.min()\n",
    "    vmax = y_seq_np.max()\n",
    "    \n",
    "    fig, ax = plt.subplots()\n",
    "    im = ax.imshow(y_seq_np[0], cmap='bwr', vmin=vmin, vmax=vmax)\n",
    "    ax.set_title(f\"Hidden state evolution (sample={sample_idx})\")\n",
    "    plt.colorbar(im, ax=ax)\n",
    "    \n",
    "    def animate(t):\n",
    "        im.set_array(y_seq_np[t])\n",
    "        ax.set_xlabel(f\"t = {t}\")\n",
    "        return [im]\n",
    "    \n",
    "    ani = animation.FuncAnimation(\n",
    "        fig, animate, \n",
    "        frames=T, \n",
    "        interval=interval, \n",
    "        blit=True\n",
    "    )\n",
    "    plt.close(fig)  # so that we don't get a duplicate static plot\n",
    "    return HTML(ani.to_jshtml())\n",
    "\n",
    "def plot_hidden(y, sample, channel, interval=200):\n",
    "    y = torch.transpose(y, 0, 1).detach()\n",
    "    return plot_hidden_state_video(y[:,:,channel], sample_idx=sample, interval=200)"
   ]
  },
  {
   "cell_type": "code",
   "execution_count": null,
   "metadata": {},
   "outputs": [],
   "source": [
    "sample = 5"
   ]
  },
  {
   "cell_type": "code",
   "execution_count": null,
   "metadata": {},
   "outputs": [],
   "source": [
    "plot_hidden(states[0], sample=sample, channel=1)"
   ]
  },
  {
   "cell_type": "code",
   "execution_count": null,
   "metadata": {},
   "outputs": [],
   "source": [
    "plot_hidden(states[1], sample=sample, channel=1)"
   ]
  },
  {
   "cell_type": "code",
   "execution_count": null,
   "metadata": {},
   "outputs": [],
   "source": [
    "ts2 = [0, 10, 20, 30, 40, 50, 60, 70, 80, 90]"
   ]
  },
  {
   "cell_type": "markdown",
   "metadata": {},
   "source": [
    "# Generate sequential code"
   ]
  },
  {
   "cell_type": "code",
   "execution_count": null,
   "metadata": {},
   "outputs": [],
   "source": [
    "#  torch.Size([5, 151, 2, 64, 64]))\n",
    "def plot_fft(the_f, sample):\n",
    "    f_plot = the_f.detach().cpu().numpy()[sample] # K x C x N x N\n",
    "    #f_plot = np.transpose(f_plot, (1, 0, 2, 3)) # C x K x N x N\n",
    "    K, C, H, W = f_plot.shape\n",
    "    fig, axes = plt.subplots(K, C, figsize=(C, K))\n",
    "    for i in range(K):\n",
    "        for j in range(C):\n",
    "            axes[i][j].imshow(f_plot[i][j], cmap='gray')\n",
    "            axes[i][j].set_xticks([])\n",
    "            axes[i][j].set_yticks([])\n",
    "            axes[i][j].set_title(f\"K{i}, C{j}\")\n",
    "    fig.tight_layout()\n",
    "    plt.show()\n",
    "\n",
    "def plot_fft_channel(fft, bins, sample, channel, fpath):\n",
    "    fft = fft.detach().cpu().numpy()[sample][:,channel]\n",
    "\n",
    "    num_plots = len(bins)\n",
    "\n",
    "    fig, axes = plt.subplots(1, num_plots, figsize=(4 * num_plots, 4))\n",
    "    for i, bin in enumerate(bins):\n",
    "        axes[i].imshow(fft[bin], cmap='gray', interpolation='bilinear')\n",
    "        axes[i].set_xticks([])\n",
    "        axes[i].set_yticks([])\n",
    "    fig.tight_layout()\n",
    "    plt.savefig(fpath)\n",
    "    plt.show()\n",
    "\n",
    "def plot_states_channel(states, ts, fpath, global_scale=False, sample=0, channel=0, plot_name=None, cmap='gray'):\n",
    "    states = states.detach().cpu().numpy()\n",
    "    states = states[sample][:,channel]\n",
    "\n",
    "    # SUBSAMPLE\n",
    "    T = len(states)\n",
    "    if T > 100:\n",
    "        indices = np.linspace(0, T-1, 100, dtype=int)\n",
    "        states = states[indices]\n",
    "\n",
    "    num_plots = len(ts)\n",
    "\n",
    "    if global_scale:\n",
    "        vmin, vmax = np.min(states), np.max(states)\n",
    "        #vmin = y_seq_np.min()\n",
    "        #vmax = y_seq_np.max()\n",
    "    else:\n",
    "        vmin, vmax = None, None\n",
    "\n",
    "    fig, axes = plt.subplots(1, num_plots, figsize=(4 * num_plots, 4))\n",
    "    for i, ts in enumerate(ts):\n",
    "        state_to_plot = states[ts].copy()\n",
    "        state_to_plot = state_to_plot[:32, 32:]\n",
    "        axes[i].imshow(state_to_plot, cmap=cmap, vmin=vmin, vmax=vmax, interpolation='bilinear')\n",
    "        axes[i].set_xticks([])\n",
    "        axes[i].set_yticks([])\n",
    "    fig.tight_layout()\n",
    "    plt.savefig(fpath, dpi=300)\n",
    "    plt.show()\n",
    "\n",
    "\"\"\"\n",
    "mask: batch x n x n (filled with index values)\n",
    "num_slots: integer\n",
    "\"\"\"\n",
    "def build_color_mask(mask, num_slots=6):\n",
    "    img_size = mask.shape[-1]\n",
    "    mask_colors = np.array([\n",
    "        [0, 0, 0],        # Black\n",
    "        [255, 0, 0],      # Red\n",
    "        [255, 127, 0],    # Orange\n",
    "        [255, 255, 0],    # Yellow\n",
    "        [0, 255, 0],      # Green   \n",
    "        [0, 0, 255],      # Blue\n",
    "    ])\n",
    "    colored_mask = np.zeros((img_size, img_size, 3), dtype=np.uint8)\n",
    "    # Assign colors to each pixel based on class\n",
    "    for i in range(num_slots):\n",
    "        colored_mask[mask == i] = mask_colors[i]\n",
    "    return colored_mask\n",
    "\n",
    "def plot_masks(masks, sample, fpath):\n",
    "    masks = masks.detach().cpu().numpy()[sample]\n",
    "    masks = build_color_mask(masks, 6)\n",
    "    fig = plt.figure()\n",
    "    plt.imshow(masks)\n",
    "    plt.xticks([])\n",
    "    plt.yticks([])\n",
    "    plt.savefig(fpath)\n",
    "    plt.show()"
   ]
  },
  {
   "cell_type": "markdown",
   "metadata": {},
   "source": [
    "# LSTM - LOOK AT FULL FOURIER"
   ]
  },
  {
   "cell_type": "code",
   "execution_count": null,
   "metadata": {},
   "outputs": [],
   "source": [
    "plot_fft(ffts[0], sample=sample)"
   ]
  },
  {
   "cell_type": "code",
   "execution_count": null,
   "metadata": {},
   "outputs": [],
   "source": [
    "channel = 1\n",
    "b1 = [0, 1, 2, 3, 4, 5, 6, 7, 8, 9]\n",
    "fp = f\"results/fig_lstm_nwm/lstm_{sample}_{channel}\"\n",
    "plot_fft_channel(ffts[0], b1, fpath=fp + \"_fft.pdf\", sample=sample, channel=channel)"
   ]
  },
  {
   "cell_type": "code",
   "execution_count": null,
   "metadata": {},
   "outputs": [],
   "source": [
    "channel = 1\n",
    "ts1 = [0, 2, 4, 6, 8, 10, 12, 14, 16, 18]\n",
    "fp = f\"results/fig_lstm_nwm/lstm_{sample}_{channel}\"\n",
    "plot_states_channel(states[0], ts1, fpath=fp + \"_state.pdf\", sample=sample, channel=channel, cmap='bwr', global_scale=True)"
   ]
  },
  {
   "cell_type": "markdown",
   "metadata": {},
   "source": [
    "# CORNN - LOOK AT FULL FOURIER"
   ]
  },
  {
   "cell_type": "code",
   "execution_count": null,
   "metadata": {},
   "outputs": [],
   "source": [
    "plot_fft(ffts[1][:,0:51], sample=sample)"
   ]
  },
  {
   "cell_type": "code",
   "execution_count": null,
   "metadata": {},
   "outputs": [],
   "source": [
    "channel = 1\n",
    "b2 = [0, 5, 10, 15, 20, 25, 30, 35, 40, 45]\n",
    "ts2 = [0, 10, 20, 30, 40, 50, 60, 70, 80, 90]\n",
    "\n",
    "fp = f\"results/fig_lstm_nwm/cornn_{sample}_{channel}\"\n",
    "plot_fft_channel(ffts[1], b2, fpath=fp + \"_fft.pdf\", sample=sample, channel=channel)\n",
    "\n",
    "fp = f\"results/fig_lstm_nwm/cornn_{sample}_{channel}\"\n",
    "plot_states_channel(states[1], ts2, fpath=fp + \"_state.pdf\", sample=sample, channel=channel, cmap='bwr', global_scale=True)"
   ]
  },
  {
   "cell_type": "markdown",
   "metadata": {},
   "source": [
    "# Save GT Image\n"
   ]
  },
  {
   "cell_type": "code",
   "execution_count": null,
   "metadata": {},
   "outputs": [],
   "source": [
    "gt_image = testsets['new_tetronimoes'][0][sample]"
   ]
  },
  {
   "cell_type": "code",
   "execution_count": null,
   "metadata": {},
   "outputs": [],
   "source": [
    "gt_image = torch.permute(gt_image, (1, 2, 0))\n",
    "gt_image = gt_image.cpu().numpy()"
   ]
  },
  {
   "cell_type": "code",
   "execution_count": null,
   "metadata": {},
   "outputs": [],
   "source": [
    "fig = plt.figure(figsize=(10, 10))\n",
    "plt.imshow(gt_image)\n",
    "plt.xticks([])\n",
    "plt.yticks([])\n",
    "plt.savefig(f\"results/fig_lstm_nwm/sample{sample}_gt.pdf\")"
   ]
  },
  {
   "cell_type": "code",
   "execution_count": null,
   "metadata": {},
   "outputs": [],
   "source": []
  }
 ],
 "metadata": {
  "kernelspec": {
   "display_name": "Python 3",
   "language": "python",
   "name": "python3"
  },
  "language_info": {
   "codemirror_mode": {
    "name": "ipython",
    "version": 3
   },
   "file_extension": ".py",
   "mimetype": "text/x-python",
   "name": "python",
   "nbconvert_exporter": "python",
   "pygments_lexer": "ipython3",
   "version": "3.12.3"
  }
 },
 "nbformat": 4,
 "nbformat_minor": 2
}
